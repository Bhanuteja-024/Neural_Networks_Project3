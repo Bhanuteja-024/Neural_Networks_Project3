{
 "cells": [
  {
   "cell_type": "code",
   "execution_count": 9,
   "metadata": {
    "colab": {
     "base_uri": "https://localhost:8080/"
    },
    "id": "6c6nIWCP4Gdb",
    "outputId": "90d8daf5-8607-4029-a0d8-ea588bc09f2f"
   },
   "outputs": [
    {
     "name": "stdout",
     "output_type": "stream",
     "text": [
      "Enter name: bhanu teja\n",
      "Family Members: 5\n",
      "Employee Salary: 1000\n",
      "Employee Department: IT\n",
      "continue : y/n\n",
      "y\n",
      "Enter name: vishal\n",
      "Family Members: 5\n",
      "Employee Salary: 100000\n",
      "Employee Department: doctor\n",
      "continue : y/n\n",
      "y\n",
      "Enter name: sathvik\n",
      "Family Members: 5\n",
      "Employee Salary: 10000\n",
      "Employee Department: Analyst\n",
      "continue : y/n\n",
      "n\n",
      "Number of employees:  3\n",
      "Avg salary is : 37000.0\n"
     ]
    }
   ],
   "source": [
    "class Employee:\n",
    "    numberOfEmployees = 0\n",
    "\n",
    "    def __init__(self, name, family, salary, department):\n",
    "        self.name = name\n",
    "        self.family = family\n",
    "        self.salary = salary\n",
    "        self.department = department\n",
    "        Employee.numberOfEmployees+=1\n",
    "\n",
    "\n",
    "def averagesalary(employee):\n",
    "    total = sum(e.salary for e in employee)\n",
    "    average = total / len(employee)\n",
    "    return average\n",
    "\n",
    "class FulltimeEmployee(Employee):\n",
    "    def __init__(self, name, family, salary, department):\n",
    "        Employee.__init__(self,name, family, salary, department)\n",
    "employee=[]\n",
    "while True:\n",
    "  employee.append(Employee(input(\"Enter name: \"),input(\"Family Members: \"),int(input(\"Employee Salary: \")),input(\"Employee Department: \")))\n",
    "  print(\"continue : y/n\")\n",
    "  if input()=='n':\n",
    "    break\n",
    "\n",
    "print(\"Number of employees: \",Employee.numberOfEmployees)\n",
    "avgsalary = averagesalary(employee)\n",
    "print(\"Avg salary is :\", avgsalary)"
   ]
  },
  {
   "cell_type": "code",
   "execution_count": 31,
   "metadata": {
    "colab": {
     "base_uri": "https://localhost:8080/"
    },
    "id": "P7Mvz3gh4Yyi",
    "outputId": "9c02e1c3-4a0e-4546-ac2f-30129dfa0cdd"
   },
   "outputs": [
    {
     "name": "stdout",
     "output_type": "stream",
     "text": [
      "Randomized_vector\n",
      "\n",
      "[ 9.90441793  7.19152918 17.59096874  6.31249572  6.5218349  16.25200521\n",
      "  5.99826627 14.92959484  7.40120601 10.59880235 19.67723356 13.59299422\n",
      " 10.97119364 18.29173198  5.79724378 18.58416956  4.16238464 19.7710361\n",
      " 18.41279219 13.74650471]\n",
      "\n",
      "\n",
      "Reshaped_array\n",
      "\n",
      "[[ 9.90441793  7.19152918 17.59096874  6.31249572  6.5218349 ]\n",
      " [16.25200521  5.99826627 14.92959484  7.40120601 10.59880235]\n",
      " [19.67723356 13.59299422 10.97119364 18.29173198  5.79724378]\n",
      " [18.58416956  4.16238464 19.7710361  18.41279219 13.74650471]]\n",
      "\n",
      "\n",
      "\n",
      "Final Array with max value to zero in each row\n",
      "\n",
      "[[ 9.90441793  7.19152918  0.          6.31249572  6.5218349 ]\n",
      " [ 0.          5.99826627 14.92959484  7.40120601 10.59880235]\n",
      " [ 0.         13.59299422 10.97119364 18.29173198  5.79724378]\n",
      " [18.58416956  4.16238464  0.         18.41279219 13.74650471]]\n"
     ]
    }
   ],
   "source": [
    "import numpy as np\n",
    "\n",
    "randomized_vector = np.random.uniform(1, 20, 20)\n",
    "print(\"Randomized_vector\",randomized_vector,sep='\\n\\n',end='\\n\\n\\n')\n",
    "reshaped_array = randomized_vector.reshape(4, 5)\n",
    "print(\"Reshaped_array\",reshaped_array,end=\"\\n\\n\\n\\n\",sep='\\n\\n')\n",
    "reshaped_array[reshaped_array == np.max(reshaped_array, axis=1)[:, None]] = 0\n",
    "print(\"Final Array with max value to zero in each row\",reshaped_array,sep='\\n\\n')"
   ]
  },
  {
   "cell_type": "code",
   "execution_count": null,
   "metadata": {
    "id": "jmqUXq_X8W3w"
   },
   "outputs": [],
   "source": []
  }
 ],
 "metadata": {
  "colab": {
   "provenance": []
  },
  "kernelspec": {
   "display_name": "Python 3 (ipykernel)",
   "language": "python",
   "name": "python3"
  },
  "language_info": {
   "codemirror_mode": {
    "name": "ipython",
    "version": 3
   },
   "file_extension": ".py",
   "mimetype": "text/x-python",
   "name": "python",
   "nbconvert_exporter": "python",
   "pygments_lexer": "ipython3",
   "version": "3.11.5"
  }
 },
 "nbformat": 4,
 "nbformat_minor": 1
}
